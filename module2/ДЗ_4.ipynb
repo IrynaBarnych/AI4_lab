{
  "nbformat": 4,
  "nbformat_minor": 0,
  "metadata": {
    "colab": {
      "provenance": [],
      "include_colab_link": true
    },
    "kernelspec": {
      "name": "python3",
      "display_name": "Python 3"
    },
    "language_info": {
      "name": "python"
    }
  },
  "cells": [
    {
      "cell_type": "markdown",
      "metadata": {
        "id": "view-in-github",
        "colab_type": "text"
      },
      "source": [
        "<a href=\"https://colab.research.google.com/github/IrynaBarnych/AI4_lab/blob/hw4---%D0%BF%D0%B5%D1%80%D0%B5%D0%B2%D1%96%D1%80%D0%B5%D0%BD%D0%BE/module2/%D0%94%D0%97_4.ipynb\" target=\"_parent\"><img src=\"https://colab.research.google.com/assets/colab-badge.svg\" alt=\"Open In Colab\"/></a>"
      ]
    },
    {
      "cell_type": "markdown",
      "source": [
        "Імпорт модулів та даних"
      ],
      "metadata": {
        "id": "hfOaZ6SkWgtW"
      }
    },
    {
      "cell_type": "code",
      "execution_count": 198,
      "metadata": {
        "id": "lpUB6B6TWdnb"
      },
      "outputs": [],
      "source": [
        "import pandas as pd\n",
        "import numpy as np\n",
        "import matplotlib.pyplot as plt"
      ]
    },
    {
      "cell_type": "code",
      "source": [
        "df = pd.read_csv(\"https://raw.githubusercontent.com/HalyshAnton/IT-Step-Pyton-AI/main/module2/data/possum.csv\")"
      ],
      "metadata": {
        "id": "8jP3Lks4WpHi"
      },
      "execution_count": 199,
      "outputs": []
    },
    {
      "cell_type": "code",
      "source": [
        "df.head()"
      ],
      "metadata": {
        "id": "lVb1XOT2W2O6",
        "colab": {
          "base_uri": "https://localhost:8080/",
          "height": 206
        },
        "outputId": "e854dc80-6a48-4c11-c77a-aaaeab8839b2"
      },
      "execution_count": 200,
      "outputs": [
        {
          "output_type": "execute_result",
          "data": {
            "text/plain": [
              "   case  site  Pop sex  age  hdlngth  skullw  totlngth  taill  footlgth  \\\n",
              "0     1     1  Vic   m  8.0     94.1    60.4      89.0   36.0      74.5   \n",
              "1     2     1  Vic   f  6.0     92.5    57.6      91.5   36.5      72.5   \n",
              "2     3     1  Vic   f  6.0     94.0    60.0      95.5   39.0      75.4   \n",
              "3     4     1  Vic   f  6.0     93.2    57.1      92.0   38.0      76.1   \n",
              "4     5     1  Vic   f  2.0     91.5    56.3      85.5   36.0      71.0   \n",
              "\n",
              "   earconch   eye  chest  belly  \n",
              "0      54.5  15.2   28.0   36.0  \n",
              "1      51.2  16.0   28.5   33.0  \n",
              "2      51.9  15.5   30.0   34.0  \n",
              "3      52.2  15.2   28.0   34.0  \n",
              "4      53.2  15.1   28.5   33.0  "
            ],
            "text/html": [
              "\n",
              "  <div id=\"df-7cfa824f-7635-4201-9f27-4f5914bb5f23\" class=\"colab-df-container\">\n",
              "    <div>\n",
              "<style scoped>\n",
              "    .dataframe tbody tr th:only-of-type {\n",
              "        vertical-align: middle;\n",
              "    }\n",
              "\n",
              "    .dataframe tbody tr th {\n",
              "        vertical-align: top;\n",
              "    }\n",
              "\n",
              "    .dataframe thead th {\n",
              "        text-align: right;\n",
              "    }\n",
              "</style>\n",
              "<table border=\"1\" class=\"dataframe\">\n",
              "  <thead>\n",
              "    <tr style=\"text-align: right;\">\n",
              "      <th></th>\n",
              "      <th>case</th>\n",
              "      <th>site</th>\n",
              "      <th>Pop</th>\n",
              "      <th>sex</th>\n",
              "      <th>age</th>\n",
              "      <th>hdlngth</th>\n",
              "      <th>skullw</th>\n",
              "      <th>totlngth</th>\n",
              "      <th>taill</th>\n",
              "      <th>footlgth</th>\n",
              "      <th>earconch</th>\n",
              "      <th>eye</th>\n",
              "      <th>chest</th>\n",
              "      <th>belly</th>\n",
              "    </tr>\n",
              "  </thead>\n",
              "  <tbody>\n",
              "    <tr>\n",
              "      <th>0</th>\n",
              "      <td>1</td>\n",
              "      <td>1</td>\n",
              "      <td>Vic</td>\n",
              "      <td>m</td>\n",
              "      <td>8.0</td>\n",
              "      <td>94.1</td>\n",
              "      <td>60.4</td>\n",
              "      <td>89.0</td>\n",
              "      <td>36.0</td>\n",
              "      <td>74.5</td>\n",
              "      <td>54.5</td>\n",
              "      <td>15.2</td>\n",
              "      <td>28.0</td>\n",
              "      <td>36.0</td>\n",
              "    </tr>\n",
              "    <tr>\n",
              "      <th>1</th>\n",
              "      <td>2</td>\n",
              "      <td>1</td>\n",
              "      <td>Vic</td>\n",
              "      <td>f</td>\n",
              "      <td>6.0</td>\n",
              "      <td>92.5</td>\n",
              "      <td>57.6</td>\n",
              "      <td>91.5</td>\n",
              "      <td>36.5</td>\n",
              "      <td>72.5</td>\n",
              "      <td>51.2</td>\n",
              "      <td>16.0</td>\n",
              "      <td>28.5</td>\n",
              "      <td>33.0</td>\n",
              "    </tr>\n",
              "    <tr>\n",
              "      <th>2</th>\n",
              "      <td>3</td>\n",
              "      <td>1</td>\n",
              "      <td>Vic</td>\n",
              "      <td>f</td>\n",
              "      <td>6.0</td>\n",
              "      <td>94.0</td>\n",
              "      <td>60.0</td>\n",
              "      <td>95.5</td>\n",
              "      <td>39.0</td>\n",
              "      <td>75.4</td>\n",
              "      <td>51.9</td>\n",
              "      <td>15.5</td>\n",
              "      <td>30.0</td>\n",
              "      <td>34.0</td>\n",
              "    </tr>\n",
              "    <tr>\n",
              "      <th>3</th>\n",
              "      <td>4</td>\n",
              "      <td>1</td>\n",
              "      <td>Vic</td>\n",
              "      <td>f</td>\n",
              "      <td>6.0</td>\n",
              "      <td>93.2</td>\n",
              "      <td>57.1</td>\n",
              "      <td>92.0</td>\n",
              "      <td>38.0</td>\n",
              "      <td>76.1</td>\n",
              "      <td>52.2</td>\n",
              "      <td>15.2</td>\n",
              "      <td>28.0</td>\n",
              "      <td>34.0</td>\n",
              "    </tr>\n",
              "    <tr>\n",
              "      <th>4</th>\n",
              "      <td>5</td>\n",
              "      <td>1</td>\n",
              "      <td>Vic</td>\n",
              "      <td>f</td>\n",
              "      <td>2.0</td>\n",
              "      <td>91.5</td>\n",
              "      <td>56.3</td>\n",
              "      <td>85.5</td>\n",
              "      <td>36.0</td>\n",
              "      <td>71.0</td>\n",
              "      <td>53.2</td>\n",
              "      <td>15.1</td>\n",
              "      <td>28.5</td>\n",
              "      <td>33.0</td>\n",
              "    </tr>\n",
              "  </tbody>\n",
              "</table>\n",
              "</div>\n",
              "    <div class=\"colab-df-buttons\">\n",
              "\n",
              "  <div class=\"colab-df-container\">\n",
              "    <button class=\"colab-df-convert\" onclick=\"convertToInteractive('df-7cfa824f-7635-4201-9f27-4f5914bb5f23')\"\n",
              "            title=\"Convert this dataframe to an interactive table.\"\n",
              "            style=\"display:none;\">\n",
              "\n",
              "  <svg xmlns=\"http://www.w3.org/2000/svg\" height=\"24px\" viewBox=\"0 -960 960 960\">\n",
              "    <path d=\"M120-120v-720h720v720H120Zm60-500h600v-160H180v160Zm220 220h160v-160H400v160Zm0 220h160v-160H400v160ZM180-400h160v-160H180v160Zm440 0h160v-160H620v160ZM180-180h160v-160H180v160Zm440 0h160v-160H620v160Z\"/>\n",
              "  </svg>\n",
              "    </button>\n",
              "\n",
              "  <style>\n",
              "    .colab-df-container {\n",
              "      display:flex;\n",
              "      gap: 12px;\n",
              "    }\n",
              "\n",
              "    .colab-df-convert {\n",
              "      background-color: #E8F0FE;\n",
              "      border: none;\n",
              "      border-radius: 50%;\n",
              "      cursor: pointer;\n",
              "      display: none;\n",
              "      fill: #1967D2;\n",
              "      height: 32px;\n",
              "      padding: 0 0 0 0;\n",
              "      width: 32px;\n",
              "    }\n",
              "\n",
              "    .colab-df-convert:hover {\n",
              "      background-color: #E2EBFA;\n",
              "      box-shadow: 0px 1px 2px rgba(60, 64, 67, 0.3), 0px 1px 3px 1px rgba(60, 64, 67, 0.15);\n",
              "      fill: #174EA6;\n",
              "    }\n",
              "\n",
              "    .colab-df-buttons div {\n",
              "      margin-bottom: 4px;\n",
              "    }\n",
              "\n",
              "    [theme=dark] .colab-df-convert {\n",
              "      background-color: #3B4455;\n",
              "      fill: #D2E3FC;\n",
              "    }\n",
              "\n",
              "    [theme=dark] .colab-df-convert:hover {\n",
              "      background-color: #434B5C;\n",
              "      box-shadow: 0px 1px 3px 1px rgba(0, 0, 0, 0.15);\n",
              "      filter: drop-shadow(0px 1px 2px rgba(0, 0, 0, 0.3));\n",
              "      fill: #FFFFFF;\n",
              "    }\n",
              "  </style>\n",
              "\n",
              "    <script>\n",
              "      const buttonEl =\n",
              "        document.querySelector('#df-7cfa824f-7635-4201-9f27-4f5914bb5f23 button.colab-df-convert');\n",
              "      buttonEl.style.display =\n",
              "        google.colab.kernel.accessAllowed ? 'block' : 'none';\n",
              "\n",
              "      async function convertToInteractive(key) {\n",
              "        const element = document.querySelector('#df-7cfa824f-7635-4201-9f27-4f5914bb5f23');\n",
              "        const dataTable =\n",
              "          await google.colab.kernel.invokeFunction('convertToInteractive',\n",
              "                                                    [key], {});\n",
              "        if (!dataTable) return;\n",
              "\n",
              "        const docLinkHtml = 'Like what you see? Visit the ' +\n",
              "          '<a target=\"_blank\" href=https://colab.research.google.com/notebooks/data_table.ipynb>data table notebook</a>'\n",
              "          + ' to learn more about interactive tables.';\n",
              "        element.innerHTML = '';\n",
              "        dataTable['output_type'] = 'display_data';\n",
              "        await google.colab.output.renderOutput(dataTable, element);\n",
              "        const docLink = document.createElement('div');\n",
              "        docLink.innerHTML = docLinkHtml;\n",
              "        element.appendChild(docLink);\n",
              "      }\n",
              "    </script>\n",
              "  </div>\n",
              "\n",
              "\n",
              "<div id=\"df-1284083f-34cd-44ec-a0bb-501f05f1cdce\">\n",
              "  <button class=\"colab-df-quickchart\" onclick=\"quickchart('df-1284083f-34cd-44ec-a0bb-501f05f1cdce')\"\n",
              "            title=\"Suggest charts\"\n",
              "            style=\"display:none;\">\n",
              "\n",
              "<svg xmlns=\"http://www.w3.org/2000/svg\" height=\"24px\"viewBox=\"0 0 24 24\"\n",
              "     width=\"24px\">\n",
              "    <g>\n",
              "        <path d=\"M19 3H5c-1.1 0-2 .9-2 2v14c0 1.1.9 2 2 2h14c1.1 0 2-.9 2-2V5c0-1.1-.9-2-2-2zM9 17H7v-7h2v7zm4 0h-2V7h2v10zm4 0h-2v-4h2v4z\"/>\n",
              "    </g>\n",
              "</svg>\n",
              "  </button>\n",
              "\n",
              "<style>\n",
              "  .colab-df-quickchart {\n",
              "      --bg-color: #E8F0FE;\n",
              "      --fill-color: #1967D2;\n",
              "      --hover-bg-color: #E2EBFA;\n",
              "      --hover-fill-color: #174EA6;\n",
              "      --disabled-fill-color: #AAA;\n",
              "      --disabled-bg-color: #DDD;\n",
              "  }\n",
              "\n",
              "  [theme=dark] .colab-df-quickchart {\n",
              "      --bg-color: #3B4455;\n",
              "      --fill-color: #D2E3FC;\n",
              "      --hover-bg-color: #434B5C;\n",
              "      --hover-fill-color: #FFFFFF;\n",
              "      --disabled-bg-color: #3B4455;\n",
              "      --disabled-fill-color: #666;\n",
              "  }\n",
              "\n",
              "  .colab-df-quickchart {\n",
              "    background-color: var(--bg-color);\n",
              "    border: none;\n",
              "    border-radius: 50%;\n",
              "    cursor: pointer;\n",
              "    display: none;\n",
              "    fill: var(--fill-color);\n",
              "    height: 32px;\n",
              "    padding: 0;\n",
              "    width: 32px;\n",
              "  }\n",
              "\n",
              "  .colab-df-quickchart:hover {\n",
              "    background-color: var(--hover-bg-color);\n",
              "    box-shadow: 0 1px 2px rgba(60, 64, 67, 0.3), 0 1px 3px 1px rgba(60, 64, 67, 0.15);\n",
              "    fill: var(--button-hover-fill-color);\n",
              "  }\n",
              "\n",
              "  .colab-df-quickchart-complete:disabled,\n",
              "  .colab-df-quickchart-complete:disabled:hover {\n",
              "    background-color: var(--disabled-bg-color);\n",
              "    fill: var(--disabled-fill-color);\n",
              "    box-shadow: none;\n",
              "  }\n",
              "\n",
              "  .colab-df-spinner {\n",
              "    border: 2px solid var(--fill-color);\n",
              "    border-color: transparent;\n",
              "    border-bottom-color: var(--fill-color);\n",
              "    animation:\n",
              "      spin 1s steps(1) infinite;\n",
              "  }\n",
              "\n",
              "  @keyframes spin {\n",
              "    0% {\n",
              "      border-color: transparent;\n",
              "      border-bottom-color: var(--fill-color);\n",
              "      border-left-color: var(--fill-color);\n",
              "    }\n",
              "    20% {\n",
              "      border-color: transparent;\n",
              "      border-left-color: var(--fill-color);\n",
              "      border-top-color: var(--fill-color);\n",
              "    }\n",
              "    30% {\n",
              "      border-color: transparent;\n",
              "      border-left-color: var(--fill-color);\n",
              "      border-top-color: var(--fill-color);\n",
              "      border-right-color: var(--fill-color);\n",
              "    }\n",
              "    40% {\n",
              "      border-color: transparent;\n",
              "      border-right-color: var(--fill-color);\n",
              "      border-top-color: var(--fill-color);\n",
              "    }\n",
              "    60% {\n",
              "      border-color: transparent;\n",
              "      border-right-color: var(--fill-color);\n",
              "    }\n",
              "    80% {\n",
              "      border-color: transparent;\n",
              "      border-right-color: var(--fill-color);\n",
              "      border-bottom-color: var(--fill-color);\n",
              "    }\n",
              "    90% {\n",
              "      border-color: transparent;\n",
              "      border-bottom-color: var(--fill-color);\n",
              "    }\n",
              "  }\n",
              "</style>\n",
              "\n",
              "  <script>\n",
              "    async function quickchart(key) {\n",
              "      const quickchartButtonEl =\n",
              "        document.querySelector('#' + key + ' button');\n",
              "      quickchartButtonEl.disabled = true;  // To prevent multiple clicks.\n",
              "      quickchartButtonEl.classList.add('colab-df-spinner');\n",
              "      try {\n",
              "        const charts = await google.colab.kernel.invokeFunction(\n",
              "            'suggestCharts', [key], {});\n",
              "      } catch (error) {\n",
              "        console.error('Error during call to suggestCharts:', error);\n",
              "      }\n",
              "      quickchartButtonEl.classList.remove('colab-df-spinner');\n",
              "      quickchartButtonEl.classList.add('colab-df-quickchart-complete');\n",
              "    }\n",
              "    (() => {\n",
              "      let quickchartButtonEl =\n",
              "        document.querySelector('#df-1284083f-34cd-44ec-a0bb-501f05f1cdce button');\n",
              "      quickchartButtonEl.style.display =\n",
              "        google.colab.kernel.accessAllowed ? 'block' : 'none';\n",
              "    })();\n",
              "  </script>\n",
              "</div>\n",
              "    </div>\n",
              "  </div>\n"
            ],
            "application/vnd.google.colaboratory.intrinsic+json": {
              "type": "dataframe",
              "variable_name": "df",
              "summary": "{\n  \"name\": \"df\",\n  \"rows\": 104,\n  \"fields\": [\n    {\n      \"column\": \"case\",\n      \"properties\": {\n        \"dtype\": \"number\",\n        \"std\": 30,\n        \"min\": 1,\n        \"max\": 104,\n        \"num_unique_values\": 104,\n        \"samples\": [\n          31,\n          66,\n          65\n        ],\n        \"semantic_type\": \"\",\n        \"description\": \"\"\n      }\n    },\n    {\n      \"column\": \"site\",\n      \"properties\": {\n        \"dtype\": \"number\",\n        \"std\": 2,\n        \"min\": 1,\n        \"max\": 7,\n        \"num_unique_values\": 7,\n        \"samples\": [\n          1,\n          2,\n          6\n        ],\n        \"semantic_type\": \"\",\n        \"description\": \"\"\n      }\n    },\n    {\n      \"column\": \"Pop\",\n      \"properties\": {\n        \"dtype\": \"category\",\n        \"num_unique_values\": 2,\n        \"samples\": [\n          \"other\",\n          \"Vic\"\n        ],\n        \"semantic_type\": \"\",\n        \"description\": \"\"\n      }\n    },\n    {\n      \"column\": \"sex\",\n      \"properties\": {\n        \"dtype\": \"category\",\n        \"num_unique_values\": 2,\n        \"samples\": [\n          \"f\",\n          \"m\"\n        ],\n        \"semantic_type\": \"\",\n        \"description\": \"\"\n      }\n    },\n    {\n      \"column\": \"age\",\n      \"properties\": {\n        \"dtype\": \"number\",\n        \"std\": 1.9092444897006104,\n        \"min\": 1.0,\n        \"max\": 9.0,\n        \"num_unique_values\": 9,\n        \"samples\": [\n          4.0,\n          6.0\n        ],\n        \"semantic_type\": \"\",\n        \"description\": \"\"\n      }\n    },\n    {\n      \"column\": \"hdlngth\",\n      \"properties\": {\n        \"dtype\": \"number\",\n        \"std\": 3.573349486079402,\n        \"min\": 82.5,\n        \"max\": 103.1,\n        \"num_unique_values\": 71,\n        \"samples\": [\n          96.0,\n          94.1\n        ],\n        \"semantic_type\": \"\",\n        \"description\": \"\"\n      }\n    },\n    {\n      \"column\": \"skullw\",\n      \"properties\": {\n        \"dtype\": \"number\",\n        \"std\": 3.1134256903770203,\n        \"min\": 50.0,\n        \"max\": 68.6,\n        \"num_unique_values\": 64,\n        \"samples\": [\n          50.0,\n          58.4\n        ],\n        \"semantic_type\": \"\",\n        \"description\": \"\"\n      }\n    },\n    {\n      \"column\": \"totlngth\",\n      \"properties\": {\n        \"dtype\": \"number\",\n        \"std\": 4.310549436569344,\n        \"min\": 75.0,\n        \"max\": 96.5,\n        \"num_unique_values\": 34,\n        \"samples\": [\n          93.0,\n          75.0\n        ],\n        \"semantic_type\": \"\",\n        \"description\": \"\"\n      }\n    },\n    {\n      \"column\": \"taill\",\n      \"properties\": {\n        \"dtype\": \"number\",\n        \"std\": 1.959518428592603,\n        \"min\": 32.0,\n        \"max\": 43.0,\n        \"num_unique_values\": 19,\n        \"samples\": [\n          36.0,\n          37.0\n        ],\n        \"semantic_type\": \"\",\n        \"description\": \"\"\n      }\n    },\n    {\n      \"column\": \"footlgth\",\n      \"properties\": {\n        \"dtype\": \"number\",\n        \"std\": 4.395305804641412,\n        \"min\": 60.3,\n        \"max\": 77.9,\n        \"num_unique_values\": 75,\n        \"samples\": [\n          71.0,\n          60.7\n        ],\n        \"semantic_type\": \"\",\n        \"description\": \"\"\n      }\n    },\n    {\n      \"column\": \"earconch\",\n      \"properties\": {\n        \"dtype\": \"number\",\n        \"std\": 4.109380151285827,\n        \"min\": 40.3,\n        \"max\": 56.2,\n        \"num_unique_values\": 69,\n        \"samples\": [\n          56.2,\n          54.5\n        ],\n        \"semantic_type\": \"\",\n        \"description\": \"\"\n      }\n    },\n    {\n      \"column\": \"eye\",\n      \"properties\": {\n        \"dtype\": \"number\",\n        \"std\": 1.0503742353818448,\n        \"min\": 12.8,\n        \"max\": 17.8,\n        \"num_unique_values\": 35,\n        \"samples\": [\n          16.5,\n          15.4\n        ],\n        \"semantic_type\": \"\",\n        \"description\": \"\"\n      }\n    },\n    {\n      \"column\": \"chest\",\n      \"properties\": {\n        \"dtype\": \"number\",\n        \"std\": 2.0455967391979963,\n        \"min\": 22.0,\n        \"max\": 32.0,\n        \"num_unique_values\": 19,\n        \"samples\": [\n          28.0,\n          31.0\n        ],\n        \"semantic_type\": \"\",\n        \"description\": \"\"\n      }\n    },\n    {\n      \"column\": \"belly\",\n      \"properties\": {\n        \"dtype\": \"number\",\n        \"std\": 2.7619487172923667,\n        \"min\": 25.0,\n        \"max\": 40.0,\n        \"num_unique_values\": 24,\n        \"samples\": [\n          40.0,\n          27.0\n        ],\n        \"semantic_type\": \"\",\n        \"description\": \"\"\n      }\n    }\n  ]\n}"
            }
          },
          "metadata": {},
          "execution_count": 200
        }
      ]
    },
    {
      "cell_type": "code",
      "source": [
        "df.info()"
      ],
      "metadata": {
        "colab": {
          "base_uri": "https://localhost:8080/"
        },
        "id": "3tv_rJZXGzvv",
        "outputId": "7b88e137-c061-43a5-f493-4dacf631f0f9"
      },
      "execution_count": 184,
      "outputs": [
        {
          "output_type": "stream",
          "name": "stdout",
          "text": [
            "<class 'pandas.core.frame.DataFrame'>\n",
            "RangeIndex: 104 entries, 0 to 103\n",
            "Data columns (total 14 columns):\n",
            " #   Column    Non-Null Count  Dtype  \n",
            "---  ------    --------------  -----  \n",
            " 0   case      104 non-null    int64  \n",
            " 1   site      104 non-null    int64  \n",
            " 2   Pop       104 non-null    object \n",
            " 3   sex       104 non-null    object \n",
            " 4   age       102 non-null    float64\n",
            " 5   hdlngth   104 non-null    float64\n",
            " 6   skullw    104 non-null    float64\n",
            " 7   totlngth  104 non-null    float64\n",
            " 8   taill     104 non-null    float64\n",
            " 9   footlgth  103 non-null    float64\n",
            " 10  earconch  104 non-null    float64\n",
            " 11  eye       104 non-null    float64\n",
            " 12  chest     104 non-null    float64\n",
            " 13  belly     104 non-null    float64\n",
            "dtypes: float64(10), int64(2), object(2)\n",
            "memory usage: 11.5+ KB\n"
          ]
        }
      ]
    },
    {
      "cell_type": "markdown",
      "source": [
        "# Завдання 1\n",
        "Виведіть основні числові характеристики для числових ознак"
      ],
      "metadata": {
        "id": "7s0YT6a2Xhd0"
      }
    },
    {
      "cell_type": "code",
      "source": [
        "df.describe()"
      ],
      "metadata": {
        "id": "1DeE-hXvW3MH",
        "colab": {
          "base_uri": "https://localhost:8080/",
          "height": 300
        },
        "outputId": "c96d06b9-3bff-44a2-a83b-020866f82437"
      },
      "execution_count": 185,
      "outputs": [
        {
          "output_type": "execute_result",
          "data": {
            "text/plain": [
              "             case        site         age     hdlngth      skullw    totlngth  \\\n",
              "count  104.000000  104.000000  102.000000  104.000000  104.000000  104.000000   \n",
              "mean    52.500000    3.625000    3.833333   92.602885   56.883654   87.088462   \n",
              "std     30.166206    2.349086    1.909244    3.573349    3.113426    4.310549   \n",
              "min      1.000000    1.000000    1.000000   82.500000   50.000000   75.000000   \n",
              "25%     26.750000    1.000000    2.250000   90.675000   54.975000   84.000000   \n",
              "50%     52.500000    3.000000    3.000000   92.800000   56.350000   88.000000   \n",
              "75%     78.250000    6.000000    5.000000   94.725000   58.100000   90.000000   \n",
              "max    104.000000    7.000000    9.000000  103.100000   68.600000   96.500000   \n",
              "\n",
              "            taill    footlgth    earconch         eye       chest       belly  \n",
              "count  104.000000  103.000000  104.000000  104.000000  104.000000  104.000000  \n",
              "mean    37.009615   68.459223   48.130769   15.046154   27.000000   32.586538  \n",
              "std      1.959518    4.395306    4.109380    1.050374    2.045597    2.761949  \n",
              "min     32.000000   60.300000   40.300000   12.800000   22.000000   25.000000  \n",
              "25%     35.875000   64.600000   44.800000   14.400000   25.500000   31.000000  \n",
              "50%     37.000000   68.000000   46.800000   14.900000   27.000000   32.500000  \n",
              "75%     38.000000   72.500000   52.000000   15.725000   28.000000   34.125000  \n",
              "max     43.000000   77.900000   56.200000   17.800000   32.000000   40.000000  "
            ],
            "text/html": [
              "\n",
              "  <div id=\"df-0d36a04d-53d1-41cd-b94f-825f40243af3\" class=\"colab-df-container\">\n",
              "    <div>\n",
              "<style scoped>\n",
              "    .dataframe tbody tr th:only-of-type {\n",
              "        vertical-align: middle;\n",
              "    }\n",
              "\n",
              "    .dataframe tbody tr th {\n",
              "        vertical-align: top;\n",
              "    }\n",
              "\n",
              "    .dataframe thead th {\n",
              "        text-align: right;\n",
              "    }\n",
              "</style>\n",
              "<table border=\"1\" class=\"dataframe\">\n",
              "  <thead>\n",
              "    <tr style=\"text-align: right;\">\n",
              "      <th></th>\n",
              "      <th>case</th>\n",
              "      <th>site</th>\n",
              "      <th>age</th>\n",
              "      <th>hdlngth</th>\n",
              "      <th>skullw</th>\n",
              "      <th>totlngth</th>\n",
              "      <th>taill</th>\n",
              "      <th>footlgth</th>\n",
              "      <th>earconch</th>\n",
              "      <th>eye</th>\n",
              "      <th>chest</th>\n",
              "      <th>belly</th>\n",
              "    </tr>\n",
              "  </thead>\n",
              "  <tbody>\n",
              "    <tr>\n",
              "      <th>count</th>\n",
              "      <td>104.000000</td>\n",
              "      <td>104.000000</td>\n",
              "      <td>102.000000</td>\n",
              "      <td>104.000000</td>\n",
              "      <td>104.000000</td>\n",
              "      <td>104.000000</td>\n",
              "      <td>104.000000</td>\n",
              "      <td>103.000000</td>\n",
              "      <td>104.000000</td>\n",
              "      <td>104.000000</td>\n",
              "      <td>104.000000</td>\n",
              "      <td>104.000000</td>\n",
              "    </tr>\n",
              "    <tr>\n",
              "      <th>mean</th>\n",
              "      <td>52.500000</td>\n",
              "      <td>3.625000</td>\n",
              "      <td>3.833333</td>\n",
              "      <td>92.602885</td>\n",
              "      <td>56.883654</td>\n",
              "      <td>87.088462</td>\n",
              "      <td>37.009615</td>\n",
              "      <td>68.459223</td>\n",
              "      <td>48.130769</td>\n",
              "      <td>15.046154</td>\n",
              "      <td>27.000000</td>\n",
              "      <td>32.586538</td>\n",
              "    </tr>\n",
              "    <tr>\n",
              "      <th>std</th>\n",
              "      <td>30.166206</td>\n",
              "      <td>2.349086</td>\n",
              "      <td>1.909244</td>\n",
              "      <td>3.573349</td>\n",
              "      <td>3.113426</td>\n",
              "      <td>4.310549</td>\n",
              "      <td>1.959518</td>\n",
              "      <td>4.395306</td>\n",
              "      <td>4.109380</td>\n",
              "      <td>1.050374</td>\n",
              "      <td>2.045597</td>\n",
              "      <td>2.761949</td>\n",
              "    </tr>\n",
              "    <tr>\n",
              "      <th>min</th>\n",
              "      <td>1.000000</td>\n",
              "      <td>1.000000</td>\n",
              "      <td>1.000000</td>\n",
              "      <td>82.500000</td>\n",
              "      <td>50.000000</td>\n",
              "      <td>75.000000</td>\n",
              "      <td>32.000000</td>\n",
              "      <td>60.300000</td>\n",
              "      <td>40.300000</td>\n",
              "      <td>12.800000</td>\n",
              "      <td>22.000000</td>\n",
              "      <td>25.000000</td>\n",
              "    </tr>\n",
              "    <tr>\n",
              "      <th>25%</th>\n",
              "      <td>26.750000</td>\n",
              "      <td>1.000000</td>\n",
              "      <td>2.250000</td>\n",
              "      <td>90.675000</td>\n",
              "      <td>54.975000</td>\n",
              "      <td>84.000000</td>\n",
              "      <td>35.875000</td>\n",
              "      <td>64.600000</td>\n",
              "      <td>44.800000</td>\n",
              "      <td>14.400000</td>\n",
              "      <td>25.500000</td>\n",
              "      <td>31.000000</td>\n",
              "    </tr>\n",
              "    <tr>\n",
              "      <th>50%</th>\n",
              "      <td>52.500000</td>\n",
              "      <td>3.000000</td>\n",
              "      <td>3.000000</td>\n",
              "      <td>92.800000</td>\n",
              "      <td>56.350000</td>\n",
              "      <td>88.000000</td>\n",
              "      <td>37.000000</td>\n",
              "      <td>68.000000</td>\n",
              "      <td>46.800000</td>\n",
              "      <td>14.900000</td>\n",
              "      <td>27.000000</td>\n",
              "      <td>32.500000</td>\n",
              "    </tr>\n",
              "    <tr>\n",
              "      <th>75%</th>\n",
              "      <td>78.250000</td>\n",
              "      <td>6.000000</td>\n",
              "      <td>5.000000</td>\n",
              "      <td>94.725000</td>\n",
              "      <td>58.100000</td>\n",
              "      <td>90.000000</td>\n",
              "      <td>38.000000</td>\n",
              "      <td>72.500000</td>\n",
              "      <td>52.000000</td>\n",
              "      <td>15.725000</td>\n",
              "      <td>28.000000</td>\n",
              "      <td>34.125000</td>\n",
              "    </tr>\n",
              "    <tr>\n",
              "      <th>max</th>\n",
              "      <td>104.000000</td>\n",
              "      <td>7.000000</td>\n",
              "      <td>9.000000</td>\n",
              "      <td>103.100000</td>\n",
              "      <td>68.600000</td>\n",
              "      <td>96.500000</td>\n",
              "      <td>43.000000</td>\n",
              "      <td>77.900000</td>\n",
              "      <td>56.200000</td>\n",
              "      <td>17.800000</td>\n",
              "      <td>32.000000</td>\n",
              "      <td>40.000000</td>\n",
              "    </tr>\n",
              "  </tbody>\n",
              "</table>\n",
              "</div>\n",
              "    <div class=\"colab-df-buttons\">\n",
              "\n",
              "  <div class=\"colab-df-container\">\n",
              "    <button class=\"colab-df-convert\" onclick=\"convertToInteractive('df-0d36a04d-53d1-41cd-b94f-825f40243af3')\"\n",
              "            title=\"Convert this dataframe to an interactive table.\"\n",
              "            style=\"display:none;\">\n",
              "\n",
              "  <svg xmlns=\"http://www.w3.org/2000/svg\" height=\"24px\" viewBox=\"0 -960 960 960\">\n",
              "    <path d=\"M120-120v-720h720v720H120Zm60-500h600v-160H180v160Zm220 220h160v-160H400v160Zm0 220h160v-160H400v160ZM180-400h160v-160H180v160Zm440 0h160v-160H620v160ZM180-180h160v-160H180v160Zm440 0h160v-160H620v160Z\"/>\n",
              "  </svg>\n",
              "    </button>\n",
              "\n",
              "  <style>\n",
              "    .colab-df-container {\n",
              "      display:flex;\n",
              "      gap: 12px;\n",
              "    }\n",
              "\n",
              "    .colab-df-convert {\n",
              "      background-color: #E8F0FE;\n",
              "      border: none;\n",
              "      border-radius: 50%;\n",
              "      cursor: pointer;\n",
              "      display: none;\n",
              "      fill: #1967D2;\n",
              "      height: 32px;\n",
              "      padding: 0 0 0 0;\n",
              "      width: 32px;\n",
              "    }\n",
              "\n",
              "    .colab-df-convert:hover {\n",
              "      background-color: #E2EBFA;\n",
              "      box-shadow: 0px 1px 2px rgba(60, 64, 67, 0.3), 0px 1px 3px 1px rgba(60, 64, 67, 0.15);\n",
              "      fill: #174EA6;\n",
              "    }\n",
              "\n",
              "    .colab-df-buttons div {\n",
              "      margin-bottom: 4px;\n",
              "    }\n",
              "\n",
              "    [theme=dark] .colab-df-convert {\n",
              "      background-color: #3B4455;\n",
              "      fill: #D2E3FC;\n",
              "    }\n",
              "\n",
              "    [theme=dark] .colab-df-convert:hover {\n",
              "      background-color: #434B5C;\n",
              "      box-shadow: 0px 1px 3px 1px rgba(0, 0, 0, 0.15);\n",
              "      filter: drop-shadow(0px 1px 2px rgba(0, 0, 0, 0.3));\n",
              "      fill: #FFFFFF;\n",
              "    }\n",
              "  </style>\n",
              "\n",
              "    <script>\n",
              "      const buttonEl =\n",
              "        document.querySelector('#df-0d36a04d-53d1-41cd-b94f-825f40243af3 button.colab-df-convert');\n",
              "      buttonEl.style.display =\n",
              "        google.colab.kernel.accessAllowed ? 'block' : 'none';\n",
              "\n",
              "      async function convertToInteractive(key) {\n",
              "        const element = document.querySelector('#df-0d36a04d-53d1-41cd-b94f-825f40243af3');\n",
              "        const dataTable =\n",
              "          await google.colab.kernel.invokeFunction('convertToInteractive',\n",
              "                                                    [key], {});\n",
              "        if (!dataTable) return;\n",
              "\n",
              "        const docLinkHtml = 'Like what you see? Visit the ' +\n",
              "          '<a target=\"_blank\" href=https://colab.research.google.com/notebooks/data_table.ipynb>data table notebook</a>'\n",
              "          + ' to learn more about interactive tables.';\n",
              "        element.innerHTML = '';\n",
              "        dataTable['output_type'] = 'display_data';\n",
              "        await google.colab.output.renderOutput(dataTable, element);\n",
              "        const docLink = document.createElement('div');\n",
              "        docLink.innerHTML = docLinkHtml;\n",
              "        element.appendChild(docLink);\n",
              "      }\n",
              "    </script>\n",
              "  </div>\n",
              "\n",
              "\n",
              "<div id=\"df-0cb21a91-c300-4da2-9d75-36c6892868e7\">\n",
              "  <button class=\"colab-df-quickchart\" onclick=\"quickchart('df-0cb21a91-c300-4da2-9d75-36c6892868e7')\"\n",
              "            title=\"Suggest charts\"\n",
              "            style=\"display:none;\">\n",
              "\n",
              "<svg xmlns=\"http://www.w3.org/2000/svg\" height=\"24px\"viewBox=\"0 0 24 24\"\n",
              "     width=\"24px\">\n",
              "    <g>\n",
              "        <path d=\"M19 3H5c-1.1 0-2 .9-2 2v14c0 1.1.9 2 2 2h14c1.1 0 2-.9 2-2V5c0-1.1-.9-2-2-2zM9 17H7v-7h2v7zm4 0h-2V7h2v10zm4 0h-2v-4h2v4z\"/>\n",
              "    </g>\n",
              "</svg>\n",
              "  </button>\n",
              "\n",
              "<style>\n",
              "  .colab-df-quickchart {\n",
              "      --bg-color: #E8F0FE;\n",
              "      --fill-color: #1967D2;\n",
              "      --hover-bg-color: #E2EBFA;\n",
              "      --hover-fill-color: #174EA6;\n",
              "      --disabled-fill-color: #AAA;\n",
              "      --disabled-bg-color: #DDD;\n",
              "  }\n",
              "\n",
              "  [theme=dark] .colab-df-quickchart {\n",
              "      --bg-color: #3B4455;\n",
              "      --fill-color: #D2E3FC;\n",
              "      --hover-bg-color: #434B5C;\n",
              "      --hover-fill-color: #FFFFFF;\n",
              "      --disabled-bg-color: #3B4455;\n",
              "      --disabled-fill-color: #666;\n",
              "  }\n",
              "\n",
              "  .colab-df-quickchart {\n",
              "    background-color: var(--bg-color);\n",
              "    border: none;\n",
              "    border-radius: 50%;\n",
              "    cursor: pointer;\n",
              "    display: none;\n",
              "    fill: var(--fill-color);\n",
              "    height: 32px;\n",
              "    padding: 0;\n",
              "    width: 32px;\n",
              "  }\n",
              "\n",
              "  .colab-df-quickchart:hover {\n",
              "    background-color: var(--hover-bg-color);\n",
              "    box-shadow: 0 1px 2px rgba(60, 64, 67, 0.3), 0 1px 3px 1px rgba(60, 64, 67, 0.15);\n",
              "    fill: var(--button-hover-fill-color);\n",
              "  }\n",
              "\n",
              "  .colab-df-quickchart-complete:disabled,\n",
              "  .colab-df-quickchart-complete:disabled:hover {\n",
              "    background-color: var(--disabled-bg-color);\n",
              "    fill: var(--disabled-fill-color);\n",
              "    box-shadow: none;\n",
              "  }\n",
              "\n",
              "  .colab-df-spinner {\n",
              "    border: 2px solid var(--fill-color);\n",
              "    border-color: transparent;\n",
              "    border-bottom-color: var(--fill-color);\n",
              "    animation:\n",
              "      spin 1s steps(1) infinite;\n",
              "  }\n",
              "\n",
              "  @keyframes spin {\n",
              "    0% {\n",
              "      border-color: transparent;\n",
              "      border-bottom-color: var(--fill-color);\n",
              "      border-left-color: var(--fill-color);\n",
              "    }\n",
              "    20% {\n",
              "      border-color: transparent;\n",
              "      border-left-color: var(--fill-color);\n",
              "      border-top-color: var(--fill-color);\n",
              "    }\n",
              "    30% {\n",
              "      border-color: transparent;\n",
              "      border-left-color: var(--fill-color);\n",
              "      border-top-color: var(--fill-color);\n",
              "      border-right-color: var(--fill-color);\n",
              "    }\n",
              "    40% {\n",
              "      border-color: transparent;\n",
              "      border-right-color: var(--fill-color);\n",
              "      border-top-color: var(--fill-color);\n",
              "    }\n",
              "    60% {\n",
              "      border-color: transparent;\n",
              "      border-right-color: var(--fill-color);\n",
              "    }\n",
              "    80% {\n",
              "      border-color: transparent;\n",
              "      border-right-color: var(--fill-color);\n",
              "      border-bottom-color: var(--fill-color);\n",
              "    }\n",
              "    90% {\n",
              "      border-color: transparent;\n",
              "      border-bottom-color: var(--fill-color);\n",
              "    }\n",
              "  }\n",
              "</style>\n",
              "\n",
              "  <script>\n",
              "    async function quickchart(key) {\n",
              "      const quickchartButtonEl =\n",
              "        document.querySelector('#' + key + ' button');\n",
              "      quickchartButtonEl.disabled = true;  // To prevent multiple clicks.\n",
              "      quickchartButtonEl.classList.add('colab-df-spinner');\n",
              "      try {\n",
              "        const charts = await google.colab.kernel.invokeFunction(\n",
              "            'suggestCharts', [key], {});\n",
              "      } catch (error) {\n",
              "        console.error('Error during call to suggestCharts:', error);\n",
              "      }\n",
              "      quickchartButtonEl.classList.remove('colab-df-spinner');\n",
              "      quickchartButtonEl.classList.add('colab-df-quickchart-complete');\n",
              "    }\n",
              "    (() => {\n",
              "      let quickchartButtonEl =\n",
              "        document.querySelector('#df-0cb21a91-c300-4da2-9d75-36c6892868e7 button');\n",
              "      quickchartButtonEl.style.display =\n",
              "        google.colab.kernel.accessAllowed ? 'block' : 'none';\n",
              "    })();\n",
              "  </script>\n",
              "</div>\n",
              "    </div>\n",
              "  </div>\n"
            ],
            "application/vnd.google.colaboratory.intrinsic+json": {
              "type": "dataframe",
              "summary": "{\n  \"name\": \"df\",\n  \"rows\": 8,\n  \"fields\": [\n    {\n      \"column\": \"case\",\n      \"properties\": {\n        \"dtype\": \"number\",\n        \"std\": 37.17783497591551,\n        \"min\": 1.0,\n        \"max\": 104.0,\n        \"num_unique_values\": 6,\n        \"samples\": [\n          104.0,\n          52.5,\n          78.25\n        ],\n        \"semantic_type\": \"\",\n        \"description\": \"\"\n      }\n    },\n    {\n      \"column\": \"site\",\n      \"properties\": {\n        \"dtype\": \"number\",\n        \"std\": 35.62400474957814,\n        \"min\": 1.0,\n        \"max\": 104.0,\n        \"num_unique_values\": 7,\n        \"samples\": [\n          104.0,\n          3.625,\n          6.0\n        ],\n        \"semantic_type\": \"\",\n        \"description\": \"\"\n      }\n    },\n    {\n      \"column\": \"age\",\n      \"properties\": {\n        \"dtype\": \"number\",\n        \"std\": 34.83766365329898,\n        \"min\": 1.0,\n        \"max\": 102.0,\n        \"num_unique_values\": 8,\n        \"samples\": [\n          3.8333333333333335,\n          3.0,\n          102.0\n        ],\n        \"semantic_type\": \"\",\n        \"description\": \"\"\n      }\n    },\n    {\n      \"column\": \"hdlngth\",\n      \"properties\": {\n        \"dtype\": \"number\",\n        \"std\": 32.816566774800606,\n        \"min\": 3.573349486079402,\n        \"max\": 104.0,\n        \"num_unique_values\": 8,\n        \"samples\": [\n          92.60288461538462,\n          92.8,\n          104.0\n        ],\n        \"semantic_type\": \"\",\n        \"description\": \"\"\n      }\n    },\n    {\n      \"column\": \"skullw\",\n      \"properties\": {\n        \"dtype\": \"number\",\n        \"std\": 27.516466682573707,\n        \"min\": 3.1134256903770203,\n        \"max\": 104.0,\n        \"num_unique_values\": 8,\n        \"samples\": [\n          56.88365384615384,\n          56.349999999999994,\n          104.0\n        ],\n        \"semantic_type\": \"\",\n        \"description\": \"\"\n      }\n    },\n    {\n      \"column\": \"totlngth\",\n      \"properties\": {\n        \"dtype\": \"number\",\n        \"std\": 31.20665043340625,\n        \"min\": 4.310549436569344,\n        \"max\": 104.0,\n        \"num_unique_values\": 8,\n        \"samples\": [\n          87.08846153846154,\n          88.0,\n          104.0\n        ],\n        \"semantic_type\": \"\",\n        \"description\": \"\"\n      }\n    },\n    {\n      \"column\": \"taill\",\n      \"properties\": {\n        \"dtype\": \"number\",\n        \"std\": 28.398337289026706,\n        \"min\": 1.959518428592603,\n        \"max\": 104.0,\n        \"num_unique_values\": 8,\n        \"samples\": [\n          37.00961538461539,\n          37.0,\n          104.0\n        ],\n        \"semantic_type\": \"\",\n        \"description\": \"\"\n      }\n    },\n    {\n      \"column\": \"footlgth\",\n      \"properties\": {\n        \"dtype\": \"number\",\n        \"std\": 27.73011728307008,\n        \"min\": 4.395305804641412,\n        \"max\": 103.0,\n        \"num_unique_values\": 8,\n        \"samples\": [\n          68.45922330097088,\n          68.0,\n          103.0\n        ],\n        \"semantic_type\": \"\",\n        \"description\": \"\"\n      }\n    },\n    {\n      \"column\": \"earconch\",\n      \"properties\": {\n        \"dtype\": \"number\",\n        \"std\": 27.24905948691396,\n        \"min\": 4.109380151285827,\n        \"max\": 104.0,\n        \"num_unique_values\": 8,\n        \"samples\": [\n          48.13076923076923,\n          46.8,\n          104.0\n        ],\n        \"semantic_type\": \"\",\n        \"description\": \"\"\n      }\n    },\n    {\n      \"column\": \"eye\",\n      \"properties\": {\n        \"dtype\": \"number\",\n        \"std\": 32.54107533405185,\n        \"min\": 1.0503742353818448,\n        \"max\": 104.0,\n        \"num_unique_values\": 8,\n        \"samples\": [\n          15.046153846153846,\n          14.9,\n          104.0\n        ],\n        \"semantic_type\": \"\",\n        \"description\": \"\"\n      }\n    },\n    {\n      \"column\": \"chest\",\n      \"properties\": {\n        \"dtype\": \"number\",\n        \"std\": 29.93529611441203,\n        \"min\": 2.0455967391979963,\n        \"max\": 104.0,\n        \"num_unique_values\": 7,\n        \"samples\": [\n          104.0,\n          27.0,\n          28.0\n        ],\n        \"semantic_type\": \"\",\n        \"description\": \"\"\n      }\n    },\n    {\n      \"column\": \"belly\",\n      \"properties\": {\n        \"dtype\": \"number\",\n        \"std\": 29.01669003658397,\n        \"min\": 2.7619487172923667,\n        \"max\": 104.0,\n        \"num_unique_values\": 8,\n        \"samples\": [\n          32.58653846153846,\n          32.5,\n          104.0\n        ],\n        \"semantic_type\": \"\",\n        \"description\": \"\"\n      }\n    }\n  ]\n}"
            }
          },
          "metadata": {},
          "execution_count": 185
        }
      ]
    },
    {
      "cell_type": "markdown",
      "source": [
        "# Завдання 2\n",
        "Проаналізуйте стовпчик `case`, чи є він інформативним?"
      ],
      "metadata": {
        "id": "L08M-we9Xv6k"
      }
    },
    {
      "cell_type": "code",
      "source": [
        "df['case'].plot(kind='box', vert=False, figsize=(14,6))"
      ],
      "metadata": {
        "id": "zoJTHBquZ1K2",
        "colab": {
          "base_uri": "https://localhost:8080/",
          "height": 539
        },
        "outputId": "ef8085e3-46aa-43f8-87a0-f64f8a3e3a9d"
      },
      "execution_count": 186,
      "outputs": [
        {
          "output_type": "execute_result",
          "data": {
            "text/plain": [
              "<Axes: >"
            ]
          },
          "metadata": {},
          "execution_count": 186
        },
        {
          "output_type": "display_data",
          "data": {
            "text/plain": [
              "<Figure size 1400x600 with 1 Axes>"
            ],
            "image/png": "[encoded data removed]"
          },
          "metadata": {}
        }
      ]
    },
    {
      "cell_type": "code",
      "source": [
        "ax = df['age'].value_counts().plot(kind='bar', figsize=(14,6))\n",
        "ax.set_ylabel('case')"
      ],
      "metadata": {
        "id": "bvedV_U2Jqme",
        "outputId": "2283c498-f434-4528-dfa1-8b21476ef03d",
        "colab": {
          "base_uri": "https://localhost:8080/",
          "height": 547
        }
      },
      "execution_count": 187,
      "outputs": [
        {
          "output_type": "execute_result",
          "data": {
            "text/plain": [
              "Text(0, 0.5, 'case')"
            ]
          },
          "metadata": {},
          "execution_count": 187
        },
        {
          "output_type": "display_data",
          "data": {
            "text/plain": [
              "<Figure size 1400x600 with 1 Axes>"
            ],
            "image/png": "[encoded data removed]"
          },
          "metadata": {}
        }
      ]
    },
    {
      "cell_type": "markdown",
      "source": [
        "# Завдання 3\n",
        "Очистіть дані від викидів. Виведіть очищений датафрейм"
      ],
      "metadata": {
        "id": "MNPiVacVYWcE"
      }
    },
    {
      "cell_type": "code",
      "source": [
        "def remove_outliers(df, column_name):\n",
        "  column = df[column_name]\n",
        "\n",
        "  q1 = column.quantile(q=0.25)\n",
        "  q3 = column.quantile(q=0.75)\n",
        "\n",
        "  iqr = q3 - q1\n",
        "\n",
        "  lower = q1 - 1.5*iqr\n",
        "  upper = q3 + 1.5*iqr\n",
        "\n",
        "  mask = (column >= lower) & (column <= upper)\n",
        "\n",
        "  return df[mask]"
      ],
      "metadata": {
        "id": "qZvwnLlJXCWz"
      },
      "execution_count": 188,
      "outputs": []
    },
    {
      "cell_type": "code",
      "source": [
        "for column_name in df.columns:\n",
        "  if df.dtypes[column_name] in (\"object\", \"datetime64[ns]\"):\n",
        "    continue\n",
        "\n",
        "  sales = remove_outliers(df, column_name)"
      ],
      "metadata": {
        "id": "UDvJ3s8fJyRv"
      },
      "execution_count": 189,
      "outputs": []
    },
    {
      "cell_type": "code",
      "source": [
        "df['case'].plot(kind='box', vert=False, figsize=(14,6))"
      ],
      "metadata": {
        "colab": {
          "base_uri": "https://localhost:8080/",
          "height": 539
        },
        "id": "-QQB4QQCJ1FS",
        "outputId": "8d78ebc9-0f44-4b5e-8376-96739e1bf152"
      },
      "execution_count": 190,
      "outputs": [
        {
          "output_type": "execute_result",
          "data": {
            "text/plain": [
              "<Axes: >"
            ]
          },
          "metadata": {},
          "execution_count": 190
        },
        {
          "output_type": "display_data",
          "data": {
            "text/plain": [
              "<Figure size 1400x600 with 1 Axes>"
            ],
            "image/png": "[encoded data removed]"
          },
          "metadata": {}
        }
      ]
    },
    {
      "cell_type": "markdown",
      "source": [
        "# Завдання 4\n",
        "Намалюйте матрицю кореляцій. Для найбільш корельованих ознак намалюйте точкову діаграму."
      ],
      "metadata": {
        "id": "g-qxBuuSYzX6"
      }
    },
    {
      "cell_type": "code",
      "source": [
        "corr = df.corr(method='pearson')\n",
        "\n",
        "corr"
      ],
      "metadata": {
        "id": "rQefEj-XY-2_",
        "colab": {
          "base_uri": "https://localhost:8080/",
          "height": 480
        },
        "outputId": "f2b91ff6-5f35-40d8-d61a-de7ecef7e59e"
      },
      "execution_count": 191,
      "outputs": [
        {
          "output_type": "stream",
          "name": "stderr",
          "text": [
            "<ipython-input-191-1190425d137d>:1: FutureWarning: The default value of numeric_only in DataFrame.corr is deprecated. In a future version, it will default to False. Select only valid columns or specify the value of numeric_only to silence this warning.\n",
            "  corr = df.corr(method='pearson')\n"
          ]
        },
        {
          "output_type": "execute_result",
          "data": {
            "text/plain": [
              "              case      site       age   hdlngth    skullw  totlngth  \\\n",
              "case      1.000000  0.970353 -0.194525 -0.209177 -0.125065 -0.334329   \n",
              "site      0.970353  1.000000 -0.131423 -0.163646 -0.083548 -0.260843   \n",
              "age      -0.194525 -0.131423  1.000000  0.319022  0.285107  0.260280   \n",
              "hdlngth  -0.209177 -0.163646  0.319022  1.000000  0.710827  0.691094   \n",
              "skullw   -0.125065 -0.083548  0.285107  0.710827  1.000000  0.526413   \n",
              "totlngth -0.334329 -0.260843  0.260280  0.691094  0.526413  1.000000   \n",
              "taill     0.315351  0.380444  0.118241  0.287429  0.255921  0.565646   \n",
              "footlgth -0.782368 -0.783009  0.126190  0.391605  0.275059  0.444832   \n",
              "earconch -0.773727 -0.790716  0.053405  0.121463 -0.000537  0.154484   \n",
              "eye      -0.084078 -0.036987  0.235553  0.347175  0.321991  0.247786   \n",
              "chest    -0.402303 -0.345494  0.334209  0.631498  0.629737  0.577890   \n",
              "belly    -0.211671 -0.175266  0.354298  0.562663  0.451838  0.519465   \n",
              "\n",
              "             taill  footlgth  earconch       eye     chest     belly  \n",
              "case      0.315351 -0.782368 -0.773727 -0.084078 -0.402303 -0.211671  \n",
              "site      0.380444 -0.783009 -0.790716 -0.036987 -0.345494 -0.175266  \n",
              "age       0.118241  0.126190  0.053405  0.235553  0.334209  0.354298  \n",
              "hdlngth   0.287429  0.391605  0.121463  0.347175  0.631498  0.562663  \n",
              "skullw    0.255921  0.275059 -0.000537  0.321991  0.629737  0.451838  \n",
              "totlngth  0.565646  0.444832  0.154484  0.247786  0.577890  0.519465  \n",
              "taill     1.000000 -0.126277 -0.385136  0.198134  0.174997  0.294493  \n",
              "footlgth -0.126277  1.000000  0.783050  0.005213  0.450590  0.302584  \n",
              "earconch -0.385136  0.783050  1.000000 -0.165092  0.199230  0.066527  \n",
              "eye       0.198134  0.005213 -0.165092  1.000000  0.149338  0.235716  \n",
              "chest     0.174997  0.450590  0.199230  0.149338  1.000000  0.606170  \n",
              "belly     0.294493  0.302584  0.066527  0.235716  0.606170  1.000000  "
            ],
            "text/html": [
              "\n",
              "  <div id=\"df-1d9b2865-9515-4dd5-9840-5f5f6a51afc2\" class=\"colab-df-container\">\n",
              "    <div>\n",
              "<style scoped>\n",
              "    .dataframe tbody tr th:only-of-type {\n",
              "        vertical-align: middle;\n",
              "    }\n",
              "\n",
              "    .dataframe tbody tr th {\n",
              "        vertical-align: top;\n",
              "    }\n",
              "\n",
              "    .dataframe thead th {\n",
              "        text-align: right;\n",
              "    }\n",
              "</style>\n",
              "<table border=\"1\" class=\"dataframe\">\n",
              "  <thead>\n",
              "    <tr style=\"text-align: right;\">\n",
              "      <th></th>\n",
              "      <th>case</th>\n",
              "      <th>site</th>\n",
              "      <th>age</th>\n",
              "      <th>hdlngth</th>\n",
              "      <th>skullw</th>\n",
              "      <th>totlngth</th>\n",
              "      <th>taill</th>\n",
              "      <th>footlgth</th>\n",
              "      <th>earconch</th>\n",
              "      <th>eye</th>\n",
              "      <th>chest</th>\n",
              "      <th>belly</th>\n",
              "    </tr>\n",
              "  </thead>\n",
              "  <tbody>\n",
              "    <tr>\n",
              "      <th>case</th>\n",
              "      <td>1.000000</td>\n",
              "      <td>0.970353</td>\n",
              "      <td>-0.194525</td>\n",
              "      <td>-0.209177</td>\n",
              "      <td>-0.125065</td>\n",
              "      <td>-0.334329</td>\n",
              "      <td>0.315351</td>\n",
              "      <td>-0.782368</td>\n",
              "      <td>-0.773727</td>\n",
              "      <td>-0.084078</td>\n",
              "      <td>-0.402303</td>\n",
              "      <td>-0.211671</td>\n",
              "    </tr>\n",
              "    <tr>\n",
              "      <th>site</th>\n",
              "      <td>0.970353</td>\n",
              "      <td>1.000000</td>\n",
              "      <td>-0.131423</td>\n",
              "      <td>-0.163646</td>\n",
              "      <td>-0.083548</td>\n",
              "      <td>-0.260843</td>\n",
              "      <td>0.380444</td>\n",
              "      <td>-0.783009</td>\n",
              "      <td>-0.790716</td>\n",
              "      <td>-0.036987</td>\n",
              "      <td>-0.345494</td>\n",
              "      <td>-0.175266</td>\n",
              "    </tr>\n",
              "    <tr>\n",
              "      <th>age</th>\n",
              "      <td>-0.194525</td>\n",
              "      <td>-0.131423</td>\n",
              "      <td>1.000000</td>\n",
              "      <td>0.319022</td>\n",
              "      <td>0.285107</td>\n",
              "      <td>0.260280</td>\n",
              "      <td>0.118241</td>\n",
              "      <td>0.126190</td>\n",
              "      <td>0.053405</td>\n",
              "      <td>0.235553</td>\n",
              "      <td>0.334209</td>\n",
              "      <td>0.354298</td>\n",
              "    </tr>\n",
              "    <tr>\n",
              "      <th>hdlngth</th>\n",
              "      <td>-0.209177</td>\n",
              "      <td>-0.163646</td>\n",
              "      <td>0.319022</td>\n",
              "      <td>1.000000</td>\n",
              "      <td>0.710827</td>\n",
              "      <td>0.691094</td>\n",
              "      <td>0.287429</td>\n",
              "      <td>0.391605</td>\n",
              "      <td>0.121463</td>\n",
              "      <td>0.347175</td>\n",
              "      <td>0.631498</td>\n",
              "      <td>0.562663</td>\n",
              "    </tr>\n",
              "    <tr>\n",
              "      <th>skullw</th>\n",
              "      <td>-0.125065</td>\n",
              "      <td>-0.083548</td>\n",
              "      <td>0.285107</td>\n",
              "      <td>0.710827</td>\n",
              "      <td>1.000000</td>\n",
              "      <td>0.526413</td>\n",
              "      <td>0.255921</td>\n",
              "      <td>0.275059</td>\n",
              "      <td>-0.000537</td>\n",
              "      <td>0.321991</td>\n",
              "      <td>0.629737</td>\n",
              "      <td>0.451838</td>\n",
              "    </tr>\n",
              "    <tr>\n",
              "      <th>totlngth</th>\n",
              "      <td>-0.334329</td>\n",
              "      <td>-0.260843</td>\n",
              "      <td>0.260280</td>\n",
              "      <td>0.691094</td>\n",
              "      <td>0.526413</td>\n",
              "      <td>1.000000</td>\n",
              "      <td>0.565646</td>\n",
              "      <td>0.444832</td>\n",
              "      <td>0.154484</td>\n",
              "      <td>0.247786</td>\n",
              "      <td>0.577890</td>\n",
              "      <td>0.519465</td>\n",
              "    </tr>\n",
              "    <tr>\n",
              "      <th>taill</th>\n",
              "      <td>0.315351</td>\n",
              "      <td>0.380444</td>\n",
              "      <td>0.118241</td>\n",
              "      <td>0.287429</td>\n",
              "      <td>0.255921</td>\n",
              "      <td>0.565646</td>\n",
              "      <td>1.000000</td>\n",
              "      <td>-0.126277</td>\n",
              "      <td>-0.385136</td>\n",
              "      <td>0.198134</td>\n",
              "      <td>0.174997</td>\n",
              "      <td>0.294493</td>\n",
              "    </tr>\n",
              "    <tr>\n",
              "      <th>footlgth</th>\n",
              "      <td>-0.782368</td>\n",
              "      <td>-0.783009</td>\n",
              "      <td>0.126190</td>\n",
              "      <td>0.391605</td>\n",
              "      <td>0.275059</td>\n",
              "      <td>0.444832</td>\n",
              "      <td>-0.126277</td>\n",
              "      <td>1.000000</td>\n",
              "      <td>0.783050</td>\n",
              "      <td>0.005213</td>\n",
              "      <td>0.450590</td>\n",
              "      <td>0.302584</td>\n",
              "    </tr>\n",
              "    <tr>\n",
              "      <th>earconch</th>\n",
              "      <td>-0.773727</td>\n",
              "      <td>-0.790716</td>\n",
              "      <td>0.053405</td>\n",
              "      <td>0.121463</td>\n",
              "      <td>-0.000537</td>\n",
              "      <td>0.154484</td>\n",
              "      <td>-0.385136</td>\n",
              "      <td>0.783050</td>\n",
              "      <td>1.000000</td>\n",
              "      <td>-0.165092</td>\n",
              "      <td>0.199230</td>\n",
              "      <td>0.066527</td>\n",
              "    </tr>\n",
              "    <tr>\n",
              "      <th>eye</th>\n",
              "      <td>-0.084078</td>\n",
              "      <td>-0.036987</td>\n",
              "      <td>0.235553</td>\n",
              "      <td>0.347175</td>\n",
              "      <td>0.321991</td>\n",
              "      <td>0.247786</td>\n",
              "      <td>0.198134</td>\n",
              "      <td>0.005213</td>\n",
              "      <td>-0.165092</td>\n",
              "      <td>1.000000</td>\n",
              "      <td>0.149338</td>\n",
              "      <td>0.235716</td>\n",
              "    </tr>\n",
              "    <tr>\n",
              "      <th>chest</th>\n",
              "      <td>-0.402303</td>\n",
              "      <td>-0.345494</td>\n",
              "      <td>0.334209</td>\n",
              "      <td>0.631498</td>\n",
              "      <td>0.629737</td>\n",
              "      <td>0.577890</td>\n",
              "      <td>0.174997</td>\n",
              "      <td>0.450590</td>\n",
              "      <td>0.199230</td>\n",
              "      <td>0.149338</td>\n",
              "      <td>1.000000</td>\n",
              "      <td>0.606170</td>\n",
              "    </tr>\n",
              "    <tr>\n",
              "      <th>belly</th>\n",
              "      <td>-0.211671</td>\n",
              "      <td>-0.175266</td>\n",
              "      <td>0.354298</td>\n",
              "      <td>0.562663</td>\n",
              "      <td>0.451838</td>\n",
              "      <td>0.519465</td>\n",
              "      <td>0.294493</td>\n",
              "      <td>0.302584</td>\n",
              "      <td>0.066527</td>\n",
              "      <td>0.235716</td>\n",
              "      <td>0.606170</td>\n",
              "      <td>1.000000</td>\n",
              "    </tr>\n",
              "  </tbody>\n",
              "</table>\n",
              "</div>\n",
              "    <div class=\"colab-df-buttons\">\n",
              "\n",
              "  <div class=\"colab-df-container\">\n",
              "    <button class=\"colab-df-convert\" onclick=\"convertToInteractive('df-1d9b2865-9515-4dd5-9840-5f5f6a51afc2')\"\n",
              "            title=\"Convert this dataframe to an interactive table.\"\n",
              "            style=\"display:none;\">\n",
              "\n",
              "  <svg xmlns=\"http://www.w3.org/2000/svg\" height=\"24px\" viewBox=\"0 -960 960 960\">\n",
              "    <path d=\"M120-120v-720h720v720H120Zm60-500h600v-160H180v160Zm220 220h160v-160H400v160Zm0 220h160v-160H400v160ZM180-400h160v-160H180v160Zm440 0h160v-160H620v160ZM180-180h160v-160H180v160Zm440 0h160v-160H620v160Z\"/>\n",
              "  </svg>\n",
              "    </button>\n",
              "\n",
              "  <style>\n",
              "    .colab-df-container {\n",
              "      display:flex;\n",
              "      gap: 12px;\n",
              "    }\n",
              "\n",
              "    .colab-df-convert {\n",
              "      background-color: #E8F0FE;\n",
              "      border: none;\n",
              "      border-radius: 50%;\n",
              "      cursor: pointer;\n",
              "      display: none;\n",
              "      fill: #1967D2;\n",
              "      height: 32px;\n",
              "      padding: 0 0 0 0;\n",
              "      width: 32px;\n",
              "    }\n",
              "\n",
              "    .colab-df-convert:hover {\n",
              "      background-color: #E2EBFA;\n",
              "      box-shadow: 0px 1px 2px rgba(60, 64, 67, 0.3), 0px 1px 3px 1px rgba(60, 64, 67, 0.15);\n",
              "      fill: #174EA6;\n",
              "    }\n",
              "\n",
              "    .colab-df-buttons div {\n",
              "      margin-bottom: 4px;\n",
              "    }\n",
              "\n",
              "    [theme=dark] .colab-df-convert {\n",
              "      background-color: #3B4455;\n",
              "      fill: #D2E3FC;\n",
              "    }\n",
              "\n",
              "    [theme=dark] .colab-df-convert:hover {\n",
              "      background-color: #434B5C;\n",
              "      box-shadow: 0px 1px 3px 1px rgba(0, 0, 0, 0.15);\n",
              "      filter: drop-shadow(0px 1px 2px rgba(0, 0, 0, 0.3));\n",
              "      fill: #FFFFFF;\n",
              "    }\n",
              "  </style>\n",
              "\n",
              "    <script>\n",
              "      const buttonEl =\n",
              "        document.querySelector('#df-1d9b2865-9515-4dd5-9840-5f5f6a51afc2 button.colab-df-convert');\n",
              "      buttonEl.style.display =\n",
              "        google.colab.kernel.accessAllowed ? 'block' : 'none';\n",
              "\n",
              "      async function convertToInteractive(key) {\n",
              "        const element = document.querySelector('#df-1d9b2865-9515-4dd5-9840-5f5f6a51afc2');\n",
              "        const dataTable =\n",
              "          await google.colab.kernel.invokeFunction('convertToInteractive',\n",
              "                                                    [key], {});\n",
              "        if (!dataTable) return;\n",
              "\n",
              "        const docLinkHtml = 'Like what you see? Visit the ' +\n",
              "          '<a target=\"_blank\" href=https://colab.research.google.com/notebooks/data_table.ipynb>data table notebook</a>'\n",
              "          + ' to learn more about interactive tables.';\n",
              "        element.innerHTML = '';\n",
              "        dataTable['output_type'] = 'display_data';\n",
              "        await google.colab.output.renderOutput(dataTable, element);\n",
              "        const docLink = document.createElement('div');\n",
              "        docLink.innerHTML = docLinkHtml;\n",
              "        element.appendChild(docLink);\n",
              "      }\n",
              "    </script>\n",
              "  </div>\n",
              "\n",
              "\n",
              "<div id=\"df-c10577c5-3087-48e3-8550-6d361546d4ea\">\n",
              "  <button class=\"colab-df-quickchart\" onclick=\"quickchart('df-c10577c5-3087-48e3-8550-6d361546d4ea')\"\n",
              "            title=\"Suggest charts\"\n",
              "            style=\"display:none;\">\n",
              "\n",
              "<svg xmlns=\"http://www.w3.org/2000/svg\" height=\"24px\"viewBox=\"0 0 24 24\"\n",
              "     width=\"24px\">\n",
              "    <g>\n",
              "        <path d=\"M19 3H5c-1.1 0-2 .9-2 2v14c0 1.1.9 2 2 2h14c1.1 0 2-.9 2-2V5c0-1.1-.9-2-2-2zM9 17H7v-7h2v7zm4 0h-2V7h2v10zm4 0h-2v-4h2v4z\"/>\n",
              "    </g>\n",
              "</svg>\n",
              "  </button>\n",
              "\n",
              "<style>\n",
              "  .colab-df-quickchart {\n",
              "      --bg-color: #E8F0FE;\n",
              "      --fill-color: #1967D2;\n",
              "      --hover-bg-color: #E2EBFA;\n",
              "      --hover-fill-color: #174EA6;\n",
              "      --disabled-fill-color: #AAA;\n",
              "      --disabled-bg-color: #DDD;\n",
              "  }\n",
              "\n",
              "  [theme=dark] .colab-df-quickchart {\n",
              "      --bg-color: #3B4455;\n",
              "      --fill-color: #D2E3FC;\n",
              "      --hover-bg-color: #434B5C;\n",
              "      --hover-fill-color: #FFFFFF;\n",
              "      --disabled-bg-color: #3B4455;\n",
              "      --disabled-fill-color: #666;\n",
              "  }\n",
              "\n",
              "  .colab-df-quickchart {\n",
              "    background-color: var(--bg-color);\n",
              "    border: none;\n",
              "    border-radius: 50%;\n",
              "    cursor: pointer;\n",
              "    display: none;\n",
              "    fill: var(--fill-color);\n",
              "    height: 32px;\n",
              "    padding: 0;\n",
              "    width: 32px;\n",
              "  }\n",
              "\n",
              "  .colab-df-quickchart:hover {\n",
              "    background-color: var(--hover-bg-color);\n",
              "    box-shadow: 0 1px 2px rgba(60, 64, 67, 0.3), 0 1px 3px 1px rgba(60, 64, 67, 0.15);\n",
              "    fill: var(--button-hover-fill-color);\n",
              "  }\n",
              "\n",
              "  .colab-df-quickchart-complete:disabled,\n",
              "  .colab-df-quickchart-complete:disabled:hover {\n",
              "    background-color: var(--disabled-bg-color);\n",
              "    fill: var(--disabled-fill-color);\n",
              "    box-shadow: none;\n",
              "  }\n",
              "\n",
              "  .colab-df-spinner {\n",
              "    border: 2px solid var(--fill-color);\n",
              "    border-color: transparent;\n",
              "    border-bottom-color: var(--fill-color);\n",
              "    animation:\n",
              "      spin 1s steps(1) infinite;\n",
              "  }\n",
              "\n",
              "  @keyframes spin {\n",
              "    0% {\n",
              "      border-color: transparent;\n",
              "      border-bottom-color: var(--fill-color);\n",
              "      border-left-color: var(--fill-color);\n",
              "    }\n",
              "    20% {\n",
              "      border-color: transparent;\n",
              "      border-left-color: var(--fill-color);\n",
              "      border-top-color: var(--fill-color);\n",
              "    }\n",
              "    30% {\n",
              "      border-color: transparent;\n",
              "      border-left-color: var(--fill-color);\n",
              "      border-top-color: var(--fill-color);\n",
              "      border-right-color: var(--fill-color);\n",
              "    }\n",
              "    40% {\n",
              "      border-color: transparent;\n",
              "      border-right-color: var(--fill-color);\n",
              "      border-top-color: var(--fill-color);\n",
              "    }\n",
              "    60% {\n",
              "      border-color: transparent;\n",
              "      border-right-color: var(--fill-color);\n",
              "    }\n",
              "    80% {\n",
              "      border-color: transparent;\n",
              "      border-right-color: var(--fill-color);\n",
              "      border-bottom-color: var(--fill-color);\n",
              "    }\n",
              "    90% {\n",
              "      border-color: transparent;\n",
              "      border-bottom-color: var(--fill-color);\n",
              "    }\n",
              "  }\n",
              "</style>\n",
              "\n",
              "  <script>\n",
              "    async function quickchart(key) {\n",
              "      const quickchartButtonEl =\n",
              "        document.querySelector('#' + key + ' button');\n",
              "      quickchartButtonEl.disabled = true;  // To prevent multiple clicks.\n",
              "      quickchartButtonEl.classList.add('colab-df-spinner');\n",
              "      try {\n",
              "        const charts = await google.colab.kernel.invokeFunction(\n",
              "            'suggestCharts', [key], {});\n",
              "      } catch (error) {\n",
              "        console.error('Error during call to suggestCharts:', error);\n",
              "      }\n",
              "      quickchartButtonEl.classList.remove('colab-df-spinner');\n",
              "      quickchartButtonEl.classList.add('colab-df-quickchart-complete');\n",
              "    }\n",
              "    (() => {\n",
              "      let quickchartButtonEl =\n",
              "        document.querySelector('#df-c10577c5-3087-48e3-8550-6d361546d4ea button');\n",
              "      quickchartButtonEl.style.display =\n",
              "        google.colab.kernel.accessAllowed ? 'block' : 'none';\n",
              "    })();\n",
              "  </script>\n",
              "</div>\n",
              "    </div>\n",
              "  </div>\n"
            ],
            "application/vnd.google.colaboratory.intrinsic+json": {
              "type": "dataframe",
              "variable_name": "corr",
              "summary": "{\n  \"name\": \"corr\",\n  \"rows\": 12,\n  \"fields\": [\n    {\n      \"column\": \"case\",\n      \"properties\": {\n        \"dtype\": \"number\",\n        \"std\": 0.5734184706032674,\n        \"min\": -0.7823683993741409,\n        \"max\": 1.0,\n        \"num_unique_values\": 12,\n        \"samples\": [\n          -0.40230254913996016,\n          -0.08407795225332905,\n          1.0\n        ],\n        \"semantic_type\": \"\",\n        \"description\": \"\"\n      }\n    },\n    {\n      \"column\": \"site\",\n      \"properties\": {\n        \"dtype\": \"number\",\n        \"std\": 0.5705238953966775,\n        \"min\": -0.790716178159082,\n        \"max\": 1.0,\n        \"num_unique_values\": 12,\n        \"samples\": [\n          -0.3454935879777249,\n          -0.036986879910724704,\n          0.9703530853160359\n        ],\n        \"semantic_type\": \"\",\n        \"description\": \"\"\n      }\n    },\n    {\n      \"column\": \"age\",\n      \"properties\": {\n        \"dtype\": \"number\",\n        \"std\": 0.3009710490669397,\n        \"min\": -0.19452485815694207,\n        \"max\": 1.0,\n        \"num_unique_values\": 12,\n        \"samples\": [\n          0.3342090409686363,\n          0.23555339542534903,\n          -0.19452485815694207\n        ],\n        \"semantic_type\": \"\",\n        \"description\": \"\"\n      }\n    },\n    {\n      \"column\": \"hdlngth\",\n      \"properties\": {\n        \"dtype\": \"number\",\n        \"std\": 0.357879698832734,\n        \"min\": -0.20917653188281965,\n        \"max\": 1.0,\n        \"num_unique_values\": 12,\n        \"samples\": [\n          0.6314981905580529,\n          0.34717465325978536,\n          -0.20917653188281965\n        ],\n        \"semantic_type\": \"\",\n        \"description\": \"\"\n      }\n    },\n    {\n      \"column\": \"skullw\",\n      \"properties\": {\n        \"dtype\": \"number\",\n        \"std\": 0.3341530040323436,\n        \"min\": -0.125064802982263,\n        \"max\": 1.0,\n        \"num_unique_values\": 12,\n        \"samples\": [\n          0.6297373363897842,\n          0.321990938554158,\n          -0.125064802982263\n        ],\n        \"semantic_type\": \"\",\n        \"description\": \"\"\n      }\n    },\n    {\n      \"column\": \"totlngth\",\n      \"properties\": {\n        \"dtype\": \"number\",\n        \"std\": 0.3815256389311143,\n        \"min\": -0.334329070475219,\n        \"max\": 1.0,\n        \"num_unique_values\": 12,\n        \"samples\": [\n          0.5778901922535119,\n          0.247785718774276,\n          -0.334329070475219\n        ],\n        \"semantic_type\": \"\",\n        \"description\": \"\"\n      }\n    },\n    {\n      \"column\": \"taill\",\n      \"properties\": {\n        \"dtype\": \"number\",\n        \"std\": 0.33803825321391223,\n        \"min\": -0.38513576583158426,\n        \"max\": 1.0,\n        \"num_unique_values\": 12,\n        \"samples\": [\n          0.1749972611889758,\n          0.1981337328746386,\n          0.3153508134632634\n        ],\n        \"semantic_type\": \"\",\n        \"description\": \"\"\n      }\n    },\n    {\n      \"column\": \"footlgth\",\n      \"properties\": {\n        \"dtype\": \"number\",\n        \"std\": 0.541766187339874,\n        \"min\": -0.7830092669485524,\n        \"max\": 1.0,\n        \"num_unique_values\": 12,\n        \"samples\": [\n          0.45059028469274187,\n          0.005213423890691389,\n          -0.7823683993741409\n        ],\n        \"semantic_type\": \"\",\n        \"description\": \"\"\n      }\n    },\n    {\n      \"column\": \"earconch\",\n      \"properties\": {\n        \"dtype\": \"number\",\n        \"std\": 0.5302198852514604,\n        \"min\": -0.790716178159082,\n        \"max\": 1.0,\n        \"num_unique_values\": 12,\n        \"samples\": [\n          0.19923036612609893,\n          -0.1650915334470602,\n          -0.7737266179685278\n        ],\n        \"semantic_type\": \"\",\n        \"description\": \"\"\n      }\n    },\n    {\n      \"column\": \"eye\",\n      \"properties\": {\n        \"dtype\": \"number\",\n        \"std\": 0.300269933609708,\n        \"min\": -0.1650915334470602,\n        \"max\": 1.0,\n        \"num_unique_values\": 12,\n        \"samples\": [\n          0.14933793989689254,\n          1.0,\n          -0.08407795225332905\n        ],\n        \"semantic_type\": \"\",\n        \"description\": \"\"\n      }\n    },\n    {\n      \"column\": \"chest\",\n      \"properties\": {\n        \"dtype\": \"number\",\n        \"std\": 0.409885927746394,\n        \"min\": -0.40230254913996016,\n        \"max\": 1.0,\n        \"num_unique_values\": 12,\n        \"samples\": [\n          1.0,\n          0.14933793989689254,\n          -0.40230254913996016\n        ],\n        \"semantic_type\": \"\",\n        \"description\": \"\"\n      }\n    },\n    {\n      \"column\": \"belly\",\n      \"properties\": {\n        \"dtype\": \"number\",\n        \"std\": 0.3383747466105376,\n        \"min\": -0.21167124821070146,\n        \"max\": 1.0,\n        \"num_unique_values\": 12,\n        \"samples\": [\n          0.6061696170151337,\n          0.23571610264055318,\n          -0.21167124821070146\n        ],\n        \"semantic_type\": \"\",\n        \"description\": \"\"\n      }\n    }\n  ]\n}"
            }
          },
          "metadata": {},
          "execution_count": 191
        }
      ]
    },
    {
      "cell_type": "code",
      "source": [
        "fig = plt.figure(figsize=(8,8))\n",
        "plt.matshow(corr, cmap='RdBu', fignum=fig.number)\n",
        "\n",
        "plt.xticks(range(len(corr.columns)), corr.columns, rotation='vertical')\n",
        "plt.yticks(range(len(corr.columns)), corr.columns)\n",
        "plt.colorbar()"
      ],
      "metadata": {
        "colab": {
          "base_uri": "https://localhost:8080/",
          "height": 685
        },
        "id": "sxhdp06b9MCT",
        "outputId": "94cb71b7-ccb7-40ed-d671-6b3a330982e7"
      },
      "execution_count": 192,
      "outputs": [
        {
          "output_type": "execute_result",
          "data": {
            "text/plain": [
              "<matplotlib.colorbar.Colorbar at 0x7a599ea25f30>"
            ]
          },
          "metadata": {},
          "execution_count": 192
        },
        {
          "output_type": "display_data",
          "data": {
            "text/plain": [
              "<Figure size 800x800 with 2 Axes>"
            ],
            "image/png": "[encoded data removed]"
          },
          "metadata": {}
        }
      ]
    },
    {
      "cell_type": "code",
      "source": [
        "x = np.random.random(size=(100,))\n",
        "\n",
        "df = pd.DataFrame({'x': x,\n",
        "                   'x^4': x**4})\n",
        "\n",
        "print(f\"pearson  \\n{df.corr(method='pearson')}\")\n",
        "print()\n",
        "print(f\"spearman \\n{df.corr(method='spearman')}\")"
      ],
      "metadata": {
        "colab": {
          "base_uri": "https://localhost:8080/"
        },
        "id": "JyG3p1XS9Wk2",
        "outputId": "ff6341f9-0ecd-409b-a09b-ec6206eb6c1f"
      },
      "execution_count": 193,
      "outputs": [
        {
          "output_type": "stream",
          "name": "stdout",
          "text": [
            "pearson  \n",
            "            x       x^4\n",
            "x    1.000000  0.883315\n",
            "x^4  0.883315  1.000000\n",
            "\n",
            "spearman \n",
            "       x  x^4\n",
            "x    1.0  1.0\n",
            "x^4  1.0  1.0\n"
          ]
        }
      ]
    },
    {
      "cell_type": "code",
      "source": [
        "corr = sales.corr(method='spearman')\n",
        "\n",
        "fig = plt.figure(figsize=(8,8))\n",
        "plt.matshow(corr, cmap='RdBu', fignum=fig.number)\n",
        "\n",
        "plt.xticks(range(len(corr.columns)), corr.columns, rotation='vertical')\n",
        "plt.yticks(range(len(corr.columns)), corr.columns)\n",
        "plt.colorbar()"
      ],
      "metadata": {
        "colab": {
          "base_uri": "https://localhost:8080/",
          "height": 740
        },
        "id": "XRj_jNoh9bzI",
        "outputId": "21d57c6a-b2da-40aa-c3cc-74df988bc00e"
      },
      "execution_count": 194,
      "outputs": [
        {
          "output_type": "stream",
          "name": "stderr",
          "text": [
            "<ipython-input-194-5d0451e66a79>:1: FutureWarning: The default value of numeric_only in DataFrame.corr is deprecated. In a future version, it will default to False. Select only valid columns or specify the value of numeric_only to silence this warning.\n",
            "  corr = sales.corr(method='spearman')\n"
          ]
        },
        {
          "output_type": "execute_result",
          "data": {
            "text/plain": [
              "<matplotlib.colorbar.Colorbar at 0x7a599798f1c0>"
            ]
          },
          "metadata": {},
          "execution_count": 194
        },
        {
          "output_type": "display_data",
          "data": {
            "text/plain": [
              "<Figure size 800x800 with 2 Axes>"
            ],
            "image/png": "[encoded data removed]"
          },
          "metadata": {}
        }
      ]
    },
    {
      "cell_type": "code",
      "source": [
        "df.plot(kind='scatter', x='earconch', y='case', figsize=(6,6))"
      ],
      "metadata": {
        "colab": {
          "base_uri": "https://localhost:8080/",
          "height": 559
        },
        "id": "qWE8AvQ49ppi",
        "outputId": "8b126c4e-30b7-4c37-d8b0-a376290ac6ec"
      },
      "execution_count": 202,
      "outputs": [
        {
          "output_type": "execute_result",
          "data": {
            "text/plain": [
              "<Axes: xlabel='earconch', ylabel='case'>"
            ]
          },
          "metadata": {},
          "execution_count": 202
        },
        {
          "output_type": "display_data",
          "data": {
            "text/plain": [
              "<Figure size 600x600 with 1 Axes>"
            ],
            "image/png": "[encoded data removed]"
          },
          "metadata": {}
        }
      ]
    },
    {
      "cell_type": "code",
      "source": [
        "df.plot(kind='scatter', x='earconch', y='footlgth', figsize=(6,6))"
      ],
      "metadata": {
        "colab": {
          "base_uri": "https://localhost:8080/",
          "height": 559
        },
        "id": "ZDuRsv6k-7Nh",
        "outputId": "83bbec67-6934-4a24-8c39-6cd8f388f2f4"
      },
      "execution_count": 93,
      "outputs": [
        {
          "output_type": "execute_result",
          "data": {
            "text/plain": [
              "<Axes: xlabel='earconch', ylabel='footlgth'>"
            ]
          },
          "metadata": {},
          "execution_count": 93
        },
        {
          "output_type": "display_data",
          "data": {
            "text/plain": [
              "<Figure size 600x600 with 1 Axes>"
            ],
            "image/png": "[encoded data removed]"
          },
          "metadata": {}
        }
      ]
    },
    {
      "cell_type": "code",
      "source": [
        "df.plot(kind='scatter', x='site', y='case', figsize=(6,6))"
      ],
      "metadata": {
        "colab": {
          "base_uri": "https://localhost:8080/",
          "height": 559
        },
        "id": "lx3LGrOH_Vdm",
        "outputId": "2d3f862d-4d27-4252-b569-65f3a2b48dd2"
      },
      "execution_count": 94,
      "outputs": [
        {
          "output_type": "execute_result",
          "data": {
            "text/plain": [
              "<Axes: xlabel='site', ylabel='case'>"
            ]
          },
          "metadata": {},
          "execution_count": 94
        },
        {
          "output_type": "display_data",
          "data": {
            "text/plain": [
              "<Figure size 600x600 with 1 Axes>"
            ],
            "image/png": "[encoded data removed]"
          },
          "metadata": {}
        }
      ]
    },
    {
      "cell_type": "code",
      "source": [
        "df.plot(kind='scatter', x='site', y='chest', figsize=(6,6))"
      ],
      "metadata": {
        "colab": {
          "base_uri": "https://localhost:8080/",
          "height": 559
        },
        "id": "rSxSMsve_pq1",
        "outputId": "e3d115dd-094e-4a64-8aea-e4f4c9d9b0dd"
      },
      "execution_count": 95,
      "outputs": [
        {
          "output_type": "execute_result",
          "data": {
            "text/plain": [
              "<Axes: xlabel='site', ylabel='chest'>"
            ]
          },
          "metadata": {},
          "execution_count": 95
        },
        {
          "output_type": "display_data",
          "data": {
            "text/plain": [
              "<Figure size 600x600 with 1 Axes>"
            ],
            "image/png": "[encoded data removed]"
          },
          "metadata": {}
        }
      ]
    },
    {
      "cell_type": "markdown",
      "source": [
        "# Завдання 5\n",
        "Для 4-ох числових ознак на вибір намалюйте ящики з вусами згрупованими по статі. Подумайте чи є вплив статі на розміри опосума"
      ],
      "metadata": {
        "id": "DgIFGk9iY_ir"
      }
    },
    {
      "cell_type": "code",
      "source": [
        "ax = df[['hdlngth', 'skullw', 'taill', 'footlgth', 'sex']].boxplot(by='sex', figsize=(10, 6))\n",
        "plt.ylabel('site')\n"
      ],
      "metadata": {
        "id": "eMUVs9yzcAAZ",
        "outputId": "60805393-f1fc-4a55-ee75-8a30f537d883",
        "colab": {
          "base_uri": "https://localhost:8080/",
          "height": 595
        }
      },
      "execution_count": 180,
      "outputs": [
        {
          "output_type": "execute_result",
          "data": {
            "text/plain": [
              "Text(0, 0.5, 'site')"
            ]
          },
          "metadata": {},
          "execution_count": 180
        },
        {
          "output_type": "display_data",
          "data": {
            "text/plain": [
              "<Figure size 1000x600 with 4 Axes>"
            ],
            "image/png": "[encoded data removed]"
          },
          "metadata": {}
        }
      ]
    }
  ]
}